{
 "metadata": {
  "name": "",
  "signature": "sha256:012e4bd2a635be5a88b97f4c6cd87921809d1abffcdfc9b6f5ef44a818a7a303"
 },
 "nbformat": 3,
 "nbformat_minor": 0,
 "worksheets": [
  {
   "cells": [
    {
     "cell_type": "markdown",
     "metadata": {},
     "source": [
      "#MCMC python"
     ]
    },
    {
     "cell_type": "code",
     "collapsed": false,
     "input": [
      "import numpy as np\n",
      "import matplotlib.pyplot as plt\n",
      "import time"
     ],
     "language": "python",
     "metadata": {},
     "outputs": [],
     "prompt_number": 1
    },
    {
     "cell_type": "code",
     "collapsed": false,
     "input": [
      "## FUNCTIONS \n",
      "# target distribution p(x) \n",
      "t = time.time()\n",
      "p = lambda x: 6*x*(1-x)\n",
      "\n",
      "# number of samples`\n",
      "n = 20000\n",
      "\n",
      "# sigma for our proposal distribution\n",
      "# corresponds to step size\n",
      "sig = 0.6\n",
      "\n",
      "#intitialize the sampling. Start somewhere from 0..1\n",
      "x0 = np.random.uniform()\n",
      "#x0 = 0.00000001\n",
      "\n",
      "x_prev = x0\n",
      "\n",
      "x = [] # to save our samples\n",
      "\n",
      "for i in xrange(n):\n",
      "    # sample new state candidate from proposal distribution\n",
      "    x_star = np.random.normal(x_prev, sig)\n",
      "\n",
      "    #while  (x_star <0) | (x_star > 1):  # make sure you stay within bounds\n",
      "    #    x_star = np.random.normal(x_prev, sig)\n",
      "       \n",
      "    P_star = p(x_star)\n",
      "    P_prev = p(x_prev)\n",
      "    U =  np.random.uniform()\n",
      "    \n",
      "    # A is simple because our transition probability is symmetric (Metropolis only)\n",
      "    A =  P_star/P_prev # did we go up or down? \n",
      "       \n",
      "    if U < A: #coin flip to see if we accept\n",
      "        x_prev = x_star \n",
      "\n",
      "    x.append(x_prev) # we always get a sample question just is if we stay or move on\n",
      "print \"Elapsed time: %1.2f seconds\"%(time.time() - t)"
     ],
     "language": "python",
     "metadata": {},
     "outputs": [
      {
       "output_type": "stream",
       "stream": "stdout",
       "text": [
        "Elapsed time: 0.06 seconds\n"
       ]
      }
     ],
     "prompt_number": 2
    },
    {
     "cell_type": "code",
     "collapsed": false,
     "input": [
      "# plot our sample histogram\n",
      "plt.hist(x,100, alpha=0.4, label=u'MCMC distribution', normed=True) \n",
      "plt.show()"
     ],
     "language": "python",
     "metadata": {},
     "outputs": []
    },
    {
     "cell_type": "code",
     "collapsed": false,
     "input": [
      "# plot our sample histogram\n",
      "plt.hist(x,100, alpha=0.4, label=u'MCMC distribution', normed=True) \n",
      "\n",
      "#plot the true function\n",
      "xx= np.linspace(0,1,100)\n",
      "plt.plot(xx, p(xx), 'r', label=u'True distribution') \n",
      "plt.legend()\n",
      "\n",
      "plt.show()\n",
      "print \"starting point was \", x0"
     ],
     "language": "python",
     "metadata": {},
     "outputs": []
    }
   ],
   "metadata": {}
  }
 ]
}