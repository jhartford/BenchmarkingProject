{
 "metadata": {
  "name": "",
  "signature": "sha256:d4f4fcb6866a93eda31485f19d3c16a706ca6ea315420575edfe36c9940cd4e9"
 },
 "nbformat": 3,
 "nbformat_minor": 0,
 "worksheets": [
  {
   "cells": [
    {
     "cell_type": "markdown",
     "metadata": {},
     "source": [
      "#MCMC python"
     ]
    },
    {
     "cell_type": "code",
     "collapsed": false,
     "input": [
      "import numpy as np\n",
      "import matplotlib.pyplot as plt\n",
      "import time"
     ],
     "language": "python",
     "metadata": {},
     "outputs": [],
     "prompt_number": 3
    },
    {
     "cell_type": "code",
     "collapsed": false,
     "input": [
      "time.time()"
     ],
     "language": "python",
     "metadata": {},
     "outputs": [
      {
       "metadata": {},
       "output_type": "pyout",
       "prompt_number": 4,
       "text": [
        "1428131201.601064"
       ]
      }
     ],
     "prompt_number": 4
    },
    {
     "cell_type": "code",
     "collapsed": false,
     "input": [
      "## FUNCTIONS \n",
      "# target distribution p(x) \n",
      "\n",
      "p = lambda x: 6*x*(1-x)\n",
      "\n",
      "# number of samples`\n",
      "n = 2000000\n",
      "\n",
      "# sigma for our proposal distribution\n",
      "# corresponds to step size\n",
      "sig = 0.6\n",
      "\n",
      "#intitialize the sampling. Start somewhere from 0..1\n",
      "x0 = np.random.uniform()\n",
      "#x0 = 0.00000001\n",
      "\n",
      "x_prev = x0\n",
      "\n",
      "x = [] # to save our samples\n",
      "\n",
      "for i in xrange(n):\n",
      "    # sample new state candidate from proposal distribution\n",
      "    x_star = np.random.normal(x_prev, sig)\n",
      "\n",
      "    #while  (x_star <0) | (x_star > 1):  # make sure you stay within bounds\n",
      "    #    x_star = np.random.normal(x_prev, sig)\n",
      "       \n",
      "    P_star = p(x_star)\n",
      "    P_prev = p(x_prev)\n",
      "    U =  np.random.uniform()\n",
      "    \n",
      "    # A is simple because our transition probability is symmetric (Metropolis only)\n",
      "    A =  P_star/P_prev # did we go up or down? \n",
      "       \n",
      "    if U < A: #coin flip to see if we accept\n",
      "        x_prev = x_star \n",
      "\n",
      "    x.append(x_prev) # we always get a sample question just is if we stay or move on"
     ],
     "language": "python",
     "metadata": {},
     "outputs": [],
     "prompt_number": 2
    },
    {
     "cell_type": "code",
     "collapsed": false,
     "input": [
      "# plot our sample histogram\n",
      "plt.hist(x,100, alpha=0.4, label=u'MCMC distribution', normed=True) \n",
      "\n",
      "#plot the true function\n",
      "xx= np.linspace(0,1,100)\n",
      "plt.plot(xx, p(xx), 'r', label=u'True distribution') \n",
      "plt.legend()\n",
      "\n",
      "plt.show()\n",
      "print \"starting point was \", x0"
     ],
     "language": "python",
     "metadata": {},
     "outputs": []
    }
   ],
   "metadata": {}
  }
 ]
}